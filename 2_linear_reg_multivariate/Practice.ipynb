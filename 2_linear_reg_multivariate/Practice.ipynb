{
 "cells": [
  {
   "cell_type": "code",
   "execution_count": 2,
   "metadata": {},
   "outputs": [],
   "source": [
    "import pandas as pd\n",
    "import numpy as np\n",
    "import matplotlib.pyplot as plt\n",
    "from sklearn import linear_model"
   ]
  },
  {
   "cell_type": "code",
   "execution_count": 82,
   "metadata": {},
   "outputs": [],
   "source": [
    "df=pd.read_csv('homeprices.csv')"
   ]
  },
  {
   "cell_type": "code",
   "execution_count": 83,
   "metadata": {},
   "outputs": [
    {
     "data": {
      "text/html": [
       "<div>\n",
       "<style scoped>\n",
       "    .dataframe tbody tr th:only-of-type {\n",
       "        vertical-align: middle;\n",
       "    }\n",
       "\n",
       "    .dataframe tbody tr th {\n",
       "        vertical-align: top;\n",
       "    }\n",
       "\n",
       "    .dataframe thead th {\n",
       "        text-align: right;\n",
       "    }\n",
       "</style>\n",
       "<table border=\"1\" class=\"dataframe\">\n",
       "  <thead>\n",
       "    <tr style=\"text-align: right;\">\n",
       "      <th></th>\n",
       "      <th>area</th>\n",
       "      <th>bedrooms</th>\n",
       "      <th>age</th>\n",
       "      <th>price</th>\n",
       "    </tr>\n",
       "  </thead>\n",
       "  <tbody>\n",
       "    <tr>\n",
       "      <th>0</th>\n",
       "      <td>2600</td>\n",
       "      <td>3.0</td>\n",
       "      <td>20</td>\n",
       "      <td>550000</td>\n",
       "    </tr>\n",
       "    <tr>\n",
       "      <th>1</th>\n",
       "      <td>3000</td>\n",
       "      <td>4.0</td>\n",
       "      <td>15</td>\n",
       "      <td>565000</td>\n",
       "    </tr>\n",
       "    <tr>\n",
       "      <th>2</th>\n",
       "      <td>3200</td>\n",
       "      <td>NaN</td>\n",
       "      <td>18</td>\n",
       "      <td>610000</td>\n",
       "    </tr>\n",
       "    <tr>\n",
       "      <th>3</th>\n",
       "      <td>3600</td>\n",
       "      <td>3.0</td>\n",
       "      <td>30</td>\n",
       "      <td>595000</td>\n",
       "    </tr>\n",
       "    <tr>\n",
       "      <th>4</th>\n",
       "      <td>4000</td>\n",
       "      <td>5.0</td>\n",
       "      <td>8</td>\n",
       "      <td>760000</td>\n",
       "    </tr>\n",
       "    <tr>\n",
       "      <th>5</th>\n",
       "      <td>4100</td>\n",
       "      <td>6.0</td>\n",
       "      <td>8</td>\n",
       "      <td>810000</td>\n",
       "    </tr>\n",
       "  </tbody>\n",
       "</table>\n",
       "</div>"
      ],
      "text/plain": [
       "   area  bedrooms  age   price\n",
       "0  2600       3.0   20  550000\n",
       "1  3000       4.0   15  565000\n",
       "2  3200       NaN   18  610000\n",
       "3  3600       3.0   30  595000\n",
       "4  4000       5.0    8  760000\n",
       "5  4100       6.0    8  810000"
      ]
     },
     "execution_count": 83,
     "metadata": {},
     "output_type": "execute_result"
    }
   ],
   "source": [
    "df"
   ]
  },
  {
   "cell_type": "code",
   "execution_count": 84,
   "metadata": {},
   "outputs": [
    {
     "data": {
      "text/html": [
       "<div>\n",
       "<style scoped>\n",
       "    .dataframe tbody tr th:only-of-type {\n",
       "        vertical-align: middle;\n",
       "    }\n",
       "\n",
       "    .dataframe tbody tr th {\n",
       "        vertical-align: top;\n",
       "    }\n",
       "\n",
       "    .dataframe thead th {\n",
       "        text-align: right;\n",
       "    }\n",
       "</style>\n",
       "<table border=\"1\" class=\"dataframe\">\n",
       "  <thead>\n",
       "    <tr style=\"text-align: right;\">\n",
       "      <th></th>\n",
       "      <th>area</th>\n",
       "      <th>bedrooms</th>\n",
       "      <th>age</th>\n",
       "      <th>price</th>\n",
       "    </tr>\n",
       "  </thead>\n",
       "  <tbody>\n",
       "    <tr>\n",
       "      <th>count</th>\n",
       "      <td>6.000000</td>\n",
       "      <td>5.00000</td>\n",
       "      <td>6.000000</td>\n",
       "      <td>6.000000</td>\n",
       "    </tr>\n",
       "    <tr>\n",
       "      <th>mean</th>\n",
       "      <td>3416.666667</td>\n",
       "      <td>4.20000</td>\n",
       "      <td>16.500000</td>\n",
       "      <td>648333.333333</td>\n",
       "    </tr>\n",
       "    <tr>\n",
       "      <th>std</th>\n",
       "      <td>587.934237</td>\n",
       "      <td>1.30384</td>\n",
       "      <td>8.288546</td>\n",
       "      <td>109117.673484</td>\n",
       "    </tr>\n",
       "    <tr>\n",
       "      <th>min</th>\n",
       "      <td>2600.000000</td>\n",
       "      <td>3.00000</td>\n",
       "      <td>8.000000</td>\n",
       "      <td>550000.000000</td>\n",
       "    </tr>\n",
       "    <tr>\n",
       "      <th>25%</th>\n",
       "      <td>3050.000000</td>\n",
       "      <td>3.00000</td>\n",
       "      <td>9.750000</td>\n",
       "      <td>572500.000000</td>\n",
       "    </tr>\n",
       "    <tr>\n",
       "      <th>50%</th>\n",
       "      <td>3400.000000</td>\n",
       "      <td>4.00000</td>\n",
       "      <td>16.500000</td>\n",
       "      <td>602500.000000</td>\n",
       "    </tr>\n",
       "    <tr>\n",
       "      <th>75%</th>\n",
       "      <td>3900.000000</td>\n",
       "      <td>5.00000</td>\n",
       "      <td>19.500000</td>\n",
       "      <td>722500.000000</td>\n",
       "    </tr>\n",
       "    <tr>\n",
       "      <th>max</th>\n",
       "      <td>4100.000000</td>\n",
       "      <td>6.00000</td>\n",
       "      <td>30.000000</td>\n",
       "      <td>810000.000000</td>\n",
       "    </tr>\n",
       "  </tbody>\n",
       "</table>\n",
       "</div>"
      ],
      "text/plain": [
       "              area  bedrooms        age          price\n",
       "count     6.000000   5.00000   6.000000       6.000000\n",
       "mean   3416.666667   4.20000  16.500000  648333.333333\n",
       "std     587.934237   1.30384   8.288546  109117.673484\n",
       "min    2600.000000   3.00000   8.000000  550000.000000\n",
       "25%    3050.000000   3.00000   9.750000  572500.000000\n",
       "50%    3400.000000   4.00000  16.500000  602500.000000\n",
       "75%    3900.000000   5.00000  19.500000  722500.000000\n",
       "max    4100.000000   6.00000  30.000000  810000.000000"
      ]
     },
     "execution_count": 84,
     "metadata": {},
     "output_type": "execute_result"
    }
   ],
   "source": [
    "df.describe()"
   ]
  },
  {
   "cell_type": "code",
   "execution_count": 85,
   "metadata": {},
   "outputs": [
    {
     "data": {
      "text/plain": [
       "1"
      ]
     },
     "execution_count": 85,
     "metadata": {},
     "output_type": "execute_result"
    }
   ],
   "source": [
    "#find the null value in the data set\n",
    "df.bedrooms.isnull().sum()"
   ]
  },
  {
   "cell_type": "code",
   "execution_count": 86,
   "metadata": {},
   "outputs": [],
   "source": [
    "# Fill blank value with median\n",
    "df.bedrooms=df.bedrooms.fillna(df.bedrooms.median())"
   ]
  },
  {
   "cell_type": "code",
   "execution_count": 87,
   "metadata": {},
   "outputs": [
    {
     "data": {
      "text/html": [
       "<div>\n",
       "<style scoped>\n",
       "    .dataframe tbody tr th:only-of-type {\n",
       "        vertical-align: middle;\n",
       "    }\n",
       "\n",
       "    .dataframe tbody tr th {\n",
       "        vertical-align: top;\n",
       "    }\n",
       "\n",
       "    .dataframe thead th {\n",
       "        text-align: right;\n",
       "    }\n",
       "</style>\n",
       "<table border=\"1\" class=\"dataframe\">\n",
       "  <thead>\n",
       "    <tr style=\"text-align: right;\">\n",
       "      <th></th>\n",
       "      <th>area</th>\n",
       "      <th>bedrooms</th>\n",
       "      <th>age</th>\n",
       "      <th>price</th>\n",
       "    </tr>\n",
       "  </thead>\n",
       "  <tbody>\n",
       "    <tr>\n",
       "      <th>0</th>\n",
       "      <td>2600</td>\n",
       "      <td>3.0</td>\n",
       "      <td>20</td>\n",
       "      <td>550000</td>\n",
       "    </tr>\n",
       "    <tr>\n",
       "      <th>1</th>\n",
       "      <td>3000</td>\n",
       "      <td>4.0</td>\n",
       "      <td>15</td>\n",
       "      <td>565000</td>\n",
       "    </tr>\n",
       "    <tr>\n",
       "      <th>2</th>\n",
       "      <td>3200</td>\n",
       "      <td>4.0</td>\n",
       "      <td>18</td>\n",
       "      <td>610000</td>\n",
       "    </tr>\n",
       "    <tr>\n",
       "      <th>3</th>\n",
       "      <td>3600</td>\n",
       "      <td>3.0</td>\n",
       "      <td>30</td>\n",
       "      <td>595000</td>\n",
       "    </tr>\n",
       "    <tr>\n",
       "      <th>4</th>\n",
       "      <td>4000</td>\n",
       "      <td>5.0</td>\n",
       "      <td>8</td>\n",
       "      <td>760000</td>\n",
       "    </tr>\n",
       "    <tr>\n",
       "      <th>5</th>\n",
       "      <td>4100</td>\n",
       "      <td>6.0</td>\n",
       "      <td>8</td>\n",
       "      <td>810000</td>\n",
       "    </tr>\n",
       "  </tbody>\n",
       "</table>\n",
       "</div>"
      ],
      "text/plain": [
       "   area  bedrooms  age   price\n",
       "0  2600       3.0   20  550000\n",
       "1  3000       4.0   15  565000\n",
       "2  3200       4.0   18  610000\n",
       "3  3600       3.0   30  595000\n",
       "4  4000       5.0    8  760000\n",
       "5  4100       6.0    8  810000"
      ]
     },
     "execution_count": 87,
     "metadata": {},
     "output_type": "execute_result"
    }
   ],
   "source": [
    "df"
   ]
  },
  {
   "cell_type": "code",
   "execution_count": 19,
   "metadata": {},
   "outputs": [],
   "source": [
    "X= df.drop('price',axis=1)"
   ]
  },
  {
   "cell_type": "code",
   "execution_count": 20,
   "metadata": {},
   "outputs": [
    {
     "data": {
      "text/html": [
       "<div>\n",
       "<style scoped>\n",
       "    .dataframe tbody tr th:only-of-type {\n",
       "        vertical-align: middle;\n",
       "    }\n",
       "\n",
       "    .dataframe tbody tr th {\n",
       "        vertical-align: top;\n",
       "    }\n",
       "\n",
       "    .dataframe thead th {\n",
       "        text-align: right;\n",
       "    }\n",
       "</style>\n",
       "<table border=\"1\" class=\"dataframe\">\n",
       "  <thead>\n",
       "    <tr style=\"text-align: right;\">\n",
       "      <th></th>\n",
       "      <th>area</th>\n",
       "      <th>bedrooms</th>\n",
       "      <th>age</th>\n",
       "    </tr>\n",
       "  </thead>\n",
       "  <tbody>\n",
       "    <tr>\n",
       "      <th>0</th>\n",
       "      <td>2600</td>\n",
       "      <td>3.0</td>\n",
       "      <td>20</td>\n",
       "    </tr>\n",
       "    <tr>\n",
       "      <th>1</th>\n",
       "      <td>3000</td>\n",
       "      <td>4.0</td>\n",
       "      <td>15</td>\n",
       "    </tr>\n",
       "    <tr>\n",
       "      <th>2</th>\n",
       "      <td>3200</td>\n",
       "      <td>4.0</td>\n",
       "      <td>18</td>\n",
       "    </tr>\n",
       "    <tr>\n",
       "      <th>3</th>\n",
       "      <td>3600</td>\n",
       "      <td>3.0</td>\n",
       "      <td>30</td>\n",
       "    </tr>\n",
       "    <tr>\n",
       "      <th>4</th>\n",
       "      <td>4000</td>\n",
       "      <td>5.0</td>\n",
       "      <td>8</td>\n",
       "    </tr>\n",
       "  </tbody>\n",
       "</table>\n",
       "</div>"
      ],
      "text/plain": [
       "   area  bedrooms  age\n",
       "0  2600       3.0   20\n",
       "1  3000       4.0   15\n",
       "2  3200       4.0   18\n",
       "3  3600       3.0   30\n",
       "4  4000       5.0    8"
      ]
     },
     "execution_count": 20,
     "metadata": {},
     "output_type": "execute_result"
    }
   ],
   "source": [
    "X.head(5)"
   ]
  },
  {
   "cell_type": "code",
   "execution_count": 43,
   "metadata": {},
   "outputs": [
    {
     "data": {
      "text/plain": [
       "<matplotlib.collections.PathCollection at 0x5b7aac0>"
      ]
     },
     "execution_count": 43,
     "metadata": {},
     "output_type": "execute_result"
    },
    {
     "data": {
      "image/png": "[encoded data removed]",
      "text/plain": [
       "<Figure size 432x288 with 1 Axes>"
      ]
     },
     "metadata": {
      "needs_background": "light"
     },
     "output_type": "display_data"
    }
   ],
   "source": [
    "# plt.plot(X,df.price)\n",
    "plt.scatter(df['area'],df['price'],color='red',marker='+')\n"
   ]
  },
  {
   "cell_type": "code",
   "execution_count": 44,
   "metadata": {},
   "outputs": [
    {
     "data": {
      "text/plain": [
       "LinearRegression()"
      ]
     },
     "execution_count": 44,
     "metadata": {},
     "output_type": "execute_result"
    }
   ],
   "source": [
    "model =linear_model.LinearRegression()\n",
    "model.fit(X,df['price'])"
   ]
  },
  {
   "cell_type": "code",
   "execution_count": 46,
   "metadata": {},
   "outputs": [
    {
     "data": {
      "text/plain": [
       "0.9550196399325819"
      ]
     },
     "execution_count": 46,
     "metadata": {},
     "output_type": "execute_result"
    }
   ],
   "source": [
    "model.score(X,df['price'])"
   ]
  },
  {
   "cell_type": "code",
   "execution_count": 47,
   "metadata": {},
   "outputs": [
    {
     "data": {
      "text/plain": [
       "array([518217.63297611, 602590.07937407, 615307.4140366 , 597962.89583192,\n",
       "       760663.42675457, 795258.55102673])"
      ]
     },
     "execution_count": 47,
     "metadata": {},
     "output_type": "execute_result"
    }
   ],
   "source": [
    "model.predict(X)"
   ]
  },
  {
   "cell_type": "code",
   "execution_count": 48,
   "metadata": {},
   "outputs": [
    {
     "data": {
      "text/plain": [
       "array([  112.06244194, 23388.88007794, -3231.71790863])"
      ]
     },
     "execution_count": 48,
     "metadata": {},
     "output_type": "execute_result"
    }
   ],
   "source": [
    "model.coef_"
   ]
  },
  {
   "cell_type": "code",
   "execution_count": 51,
   "metadata": {},
   "outputs": [
    {
     "data": {
      "text/plain": [
       "221323.0018654043"
      ]
     },
     "execution_count": 51,
     "metadata": {},
     "output_type": "execute_result"
    }
   ],
   "source": [
    "model.intercept_"
   ]
  },
  {
   "cell_type": "markdown",
   "metadata": {},
   "source": [
    "# Find price of home with 3000 sqr ft area, 3 bedrooms, 40 year old"
   ]
  },
  {
   "cell_type": "code",
   "execution_count": 53,
   "metadata": {},
   "outputs": [
    {
     "data": {
      "text/plain": [
       "array([498408.25158031])"
      ]
     },
     "execution_count": 53,
     "metadata": {},
     "output_type": "execute_result"
    }
   ],
   "source": [
    "model.predict([[3000,3,40]])"
   ]
  },
  {
   "cell_type": "code",
   "execution_count": 55,
   "metadata": {},
   "outputs": [
    {
     "data": {
      "text/plain": [
       "498408.25157402386"
      ]
     },
     "execution_count": 55,
     "metadata": {},
     "output_type": "execute_result"
    }
   ],
   "source": [
    "112.06244194*3000 + 23388.88007794*3 + (-3231.71790863*40) + 221323.00186540384"
   ]
  },
  {
   "cell_type": "markdown",
   "metadata": {},
   "source": [
    "# another example "
   ]
  },
  {
   "cell_type": "code",
   "execution_count": 184,
   "metadata": {},
   "outputs": [],
   "source": [
    "df =pd.read_csv(r'C:\\Users\\Sandeep\\Desktop\\IITM\\New\\Python\\06_ML\\VVI_Code_base\\ML\\2_linear_reg_multivariate\\Exercise\\hiring.csv')"
   ]
  },
  {
   "cell_type": "code",
   "execution_count": 185,
   "metadata": {},
   "outputs": [
    {
     "data": {
      "text/html": [
       "<div>\n",
       "<style scoped>\n",
       "    .dataframe tbody tr th:only-of-type {\n",
       "        vertical-align: middle;\n",
       "    }\n",
       "\n",
       "    .dataframe tbody tr th {\n",
       "        vertical-align: top;\n",
       "    }\n",
       "\n",
       "    .dataframe thead th {\n",
       "        text-align: right;\n",
       "    }\n",
       "</style>\n",
       "<table border=\"1\" class=\"dataframe\">\n",
       "  <thead>\n",
       "    <tr style=\"text-align: right;\">\n",
       "      <th></th>\n",
       "      <th>experience</th>\n",
       "      <th>test_score(out of 10)</th>\n",
       "      <th>interview_score(out of 10)</th>\n",
       "      <th>salary($)</th>\n",
       "    </tr>\n",
       "  </thead>\n",
       "  <tbody>\n",
       "    <tr>\n",
       "      <th>0</th>\n",
       "      <td>NaN</td>\n",
       "      <td>8.0</td>\n",
       "      <td>9</td>\n",
       "      <td>50000</td>\n",
       "    </tr>\n",
       "    <tr>\n",
       "      <th>1</th>\n",
       "      <td>NaN</td>\n",
       "      <td>8.0</td>\n",
       "      <td>6</td>\n",
       "      <td>45000</td>\n",
       "    </tr>\n",
       "    <tr>\n",
       "      <th>2</th>\n",
       "      <td>five</td>\n",
       "      <td>6.0</td>\n",
       "      <td>7</td>\n",
       "      <td>60000</td>\n",
       "    </tr>\n",
       "    <tr>\n",
       "      <th>3</th>\n",
       "      <td>two</td>\n",
       "      <td>10.0</td>\n",
       "      <td>10</td>\n",
       "      <td>65000</td>\n",
       "    </tr>\n",
       "    <tr>\n",
       "      <th>4</th>\n",
       "      <td>seven</td>\n",
       "      <td>9.0</td>\n",
       "      <td>6</td>\n",
       "      <td>70000</td>\n",
       "    </tr>\n",
       "  </tbody>\n",
       "</table>\n",
       "</div>"
      ],
      "text/plain": [
       "  experience  test_score(out of 10)  interview_score(out of 10)  salary($)\n",
       "0        NaN                    8.0                           9      50000\n",
       "1        NaN                    8.0                           6      45000\n",
       "2       five                    6.0                           7      60000\n",
       "3        two                   10.0                          10      65000\n",
       "4      seven                    9.0                           6      70000"
      ]
     },
     "execution_count": 185,
     "metadata": {},
     "output_type": "execute_result"
    }
   ],
   "source": [
    "df.head()"
   ]
  },
  {
   "cell_type": "code",
   "execution_count": 90,
   "metadata": {},
   "outputs": [],
   "source": []
  },
  {
   "cell_type": "code",
   "execution_count": null,
   "metadata": {},
   "outputs": [],
   "source": []
  },
  {
   "cell_type": "code",
   "execution_count": 186,
   "metadata": {},
   "outputs": [
    {
     "data": {
      "text/plain": [
       "experience                    2\n",
       "test_score(out of 10)         1\n",
       "interview_score(out of 10)    0\n",
       "salary($)                     0\n",
       "dtype: int64"
      ]
     },
     "execution_count": 186,
     "metadata": {},
     "output_type": "execute_result"
    }
   ],
   "source": [
    "df.isnull().sum()"
   ]
  },
  {
   "cell_type": "code",
   "execution_count": 187,
   "metadata": {},
   "outputs": [
    {
     "data": {
      "text/html": [
       "<div>\n",
       "<style scoped>\n",
       "    .dataframe tbody tr th:only-of-type {\n",
       "        vertical-align: middle;\n",
       "    }\n",
       "\n",
       "    .dataframe tbody tr th {\n",
       "        vertical-align: top;\n",
       "    }\n",
       "\n",
       "    .dataframe thead th {\n",
       "        text-align: right;\n",
       "    }\n",
       "</style>\n",
       "<table border=\"1\" class=\"dataframe\">\n",
       "  <thead>\n",
       "    <tr style=\"text-align: right;\">\n",
       "      <th></th>\n",
       "      <th>experience</th>\n",
       "      <th>test_score(out of 10)</th>\n",
       "      <th>interview_score(out of 10)</th>\n",
       "      <th>salary($)</th>\n",
       "    </tr>\n",
       "  </thead>\n",
       "  <tbody>\n",
       "    <tr>\n",
       "      <th>count</th>\n",
       "      <td>6</td>\n",
       "      <td>7.000000</td>\n",
       "      <td>8.000000</td>\n",
       "      <td>8.00000</td>\n",
       "    </tr>\n",
       "    <tr>\n",
       "      <th>unique</th>\n",
       "      <td>6</td>\n",
       "      <td>NaN</td>\n",
       "      <td>NaN</td>\n",
       "      <td>NaN</td>\n",
       "    </tr>\n",
       "    <tr>\n",
       "      <th>top</th>\n",
       "      <td>eleven</td>\n",
       "      <td>NaN</td>\n",
       "      <td>NaN</td>\n",
       "      <td>NaN</td>\n",
       "    </tr>\n",
       "    <tr>\n",
       "      <th>freq</th>\n",
       "      <td>1</td>\n",
       "      <td>NaN</td>\n",
       "      <td>NaN</td>\n",
       "      <td>NaN</td>\n",
       "    </tr>\n",
       "    <tr>\n",
       "      <th>mean</th>\n",
       "      <td>NaN</td>\n",
       "      <td>7.857143</td>\n",
       "      <td>7.875000</td>\n",
       "      <td>63000.00000</td>\n",
       "    </tr>\n",
       "    <tr>\n",
       "      <th>std</th>\n",
       "      <td>NaN</td>\n",
       "      <td>1.345185</td>\n",
       "      <td>1.642081</td>\n",
       "      <td>11501.55269</td>\n",
       "    </tr>\n",
       "    <tr>\n",
       "      <th>min</th>\n",
       "      <td>NaN</td>\n",
       "      <td>6.000000</td>\n",
       "      <td>6.000000</td>\n",
       "      <td>45000.00000</td>\n",
       "    </tr>\n",
       "    <tr>\n",
       "      <th>25%</th>\n",
       "      <td>NaN</td>\n",
       "      <td>7.000000</td>\n",
       "      <td>6.750000</td>\n",
       "      <td>57500.00000</td>\n",
       "    </tr>\n",
       "    <tr>\n",
       "      <th>50%</th>\n",
       "      <td>NaN</td>\n",
       "      <td>8.000000</td>\n",
       "      <td>7.500000</td>\n",
       "      <td>63500.00000</td>\n",
       "    </tr>\n",
       "    <tr>\n",
       "      <th>75%</th>\n",
       "      <td>NaN</td>\n",
       "      <td>8.500000</td>\n",
       "      <td>9.250000</td>\n",
       "      <td>70500.00000</td>\n",
       "    </tr>\n",
       "    <tr>\n",
       "      <th>max</th>\n",
       "      <td>NaN</td>\n",
       "      <td>10.000000</td>\n",
       "      <td>10.000000</td>\n",
       "      <td>80000.00000</td>\n",
       "    </tr>\n",
       "  </tbody>\n",
       "</table>\n",
       "</div>"
      ],
      "text/plain": [
       "       experience  test_score(out of 10)  interview_score(out of 10)  \\\n",
       "count           6               7.000000                    8.000000   \n",
       "unique          6                    NaN                         NaN   \n",
       "top        eleven                    NaN                         NaN   \n",
       "freq            1                    NaN                         NaN   \n",
       "mean          NaN               7.857143                    7.875000   \n",
       "std           NaN               1.345185                    1.642081   \n",
       "min           NaN               6.000000                    6.000000   \n",
       "25%           NaN               7.000000                    6.750000   \n",
       "50%           NaN               8.000000                    7.500000   \n",
       "75%           NaN               8.500000                    9.250000   \n",
       "max           NaN              10.000000                   10.000000   \n",
       "\n",
       "          salary($)  \n",
       "count       8.00000  \n",
       "unique          NaN  \n",
       "top             NaN  \n",
       "freq            NaN  \n",
       "mean    63000.00000  \n",
       "std     11501.55269  \n",
       "min     45000.00000  \n",
       "25%     57500.00000  \n",
       "50%     63500.00000  \n",
       "75%     70500.00000  \n",
       "max     80000.00000  "
      ]
     },
     "execution_count": 187,
     "metadata": {},
     "output_type": "execute_result"
    }
   ],
   "source": [
    "df.describe(include='all')"
   ]
  },
  {
   "cell_type": "code",
   "execution_count": 188,
   "metadata": {},
   "outputs": [
    {
     "data": {
      "text/plain": [
       "eleven    1\n",
       "ten       1\n",
       "five      1\n",
       "three     1\n",
       "two       1\n",
       "seven     1\n",
       "Name: experience, dtype: int64"
      ]
     },
     "execution_count": 188,
     "metadata": {},
     "output_type": "execute_result"
    }
   ],
   "source": [
    "df.experience.value_counts()"
   ]
  },
  {
   "cell_type": "code",
   "execution_count": 189,
   "metadata": {},
   "outputs": [
    {
     "data": {
      "text/plain": [
       "0    eleven\n",
       "1      five\n",
       "2     seven\n",
       "3       ten\n",
       "4     three\n",
       "5       two\n",
       "dtype: object"
      ]
     },
     "execution_count": 189,
     "metadata": {},
     "output_type": "execute_result"
    }
   ],
   "source": [
    "df.experience.mode()"
   ]
  },
  {
   "cell_type": "code",
   "execution_count": 190,
   "metadata": {},
   "outputs": [
    {
     "data": {
      "text/plain": [
       "0       NaN\n",
       "1       NaN\n",
       "2      five\n",
       "3       two\n",
       "4     seven\n",
       "5     three\n",
       "6       ten\n",
       "7    eleven\n",
       "Name: experience, dtype: object"
      ]
     },
     "execution_count": 190,
     "metadata": {},
     "output_type": "execute_result"
    }
   ],
   "source": [
    "df.experience"
   ]
  },
  {
   "cell_type": "code",
   "execution_count": 191,
   "metadata": {},
   "outputs": [
    {
     "data": {
      "text/html": [
       "<div>\n",
       "<style scoped>\n",
       "    .dataframe tbody tr th:only-of-type {\n",
       "        vertical-align: middle;\n",
       "    }\n",
       "\n",
       "    .dataframe tbody tr th {\n",
       "        vertical-align: top;\n",
       "    }\n",
       "\n",
       "    .dataframe thead th {\n",
       "        text-align: right;\n",
       "    }\n",
       "</style>\n",
       "<table border=\"1\" class=\"dataframe\">\n",
       "  <thead>\n",
       "    <tr style=\"text-align: right;\">\n",
       "      <th></th>\n",
       "      <th>experience</th>\n",
       "      <th>test_score(out of 10)</th>\n",
       "      <th>interview_score(out of 10)</th>\n",
       "      <th>salary($)</th>\n",
       "    </tr>\n",
       "  </thead>\n",
       "  <tbody>\n",
       "    <tr>\n",
       "      <th>0</th>\n",
       "      <td>NaN</td>\n",
       "      <td>8.0</td>\n",
       "      <td>9</td>\n",
       "      <td>50000</td>\n",
       "    </tr>\n",
       "    <tr>\n",
       "      <th>1</th>\n",
       "      <td>NaN</td>\n",
       "      <td>8.0</td>\n",
       "      <td>6</td>\n",
       "      <td>45000</td>\n",
       "    </tr>\n",
       "    <tr>\n",
       "      <th>2</th>\n",
       "      <td>five</td>\n",
       "      <td>6.0</td>\n",
       "      <td>7</td>\n",
       "      <td>60000</td>\n",
       "    </tr>\n",
       "    <tr>\n",
       "      <th>3</th>\n",
       "      <td>two</td>\n",
       "      <td>10.0</td>\n",
       "      <td>10</td>\n",
       "      <td>65000</td>\n",
       "    </tr>\n",
       "    <tr>\n",
       "      <th>4</th>\n",
       "      <td>seven</td>\n",
       "      <td>9.0</td>\n",
       "      <td>6</td>\n",
       "      <td>70000</td>\n",
       "    </tr>\n",
       "    <tr>\n",
       "      <th>5</th>\n",
       "      <td>three</td>\n",
       "      <td>7.0</td>\n",
       "      <td>10</td>\n",
       "      <td>62000</td>\n",
       "    </tr>\n",
       "    <tr>\n",
       "      <th>6</th>\n",
       "      <td>ten</td>\n",
       "      <td>NaN</td>\n",
       "      <td>7</td>\n",
       "      <td>72000</td>\n",
       "    </tr>\n",
       "    <tr>\n",
       "      <th>7</th>\n",
       "      <td>eleven</td>\n",
       "      <td>7.0</td>\n",
       "      <td>8</td>\n",
       "      <td>80000</td>\n",
       "    </tr>\n",
       "  </tbody>\n",
       "</table>\n",
       "</div>"
      ],
      "text/plain": [
       "  experience  test_score(out of 10)  interview_score(out of 10)  salary($)\n",
       "0        NaN                    8.0                           9      50000\n",
       "1        NaN                    8.0                           6      45000\n",
       "2       five                    6.0                           7      60000\n",
       "3        two                   10.0                          10      65000\n",
       "4      seven                    9.0                           6      70000\n",
       "5      three                    7.0                          10      62000\n",
       "6        ten                    NaN                           7      72000\n",
       "7     eleven                    7.0                           8      80000"
      ]
     },
     "execution_count": 191,
     "metadata": {},
     "output_type": "execute_result"
    }
   ],
   "source": [
    "df"
   ]
  },
  {
   "cell_type": "code",
   "execution_count": 192,
   "metadata": {},
   "outputs": [
    {
     "data": {
      "text/plain": [
       "[nan, 'five', 'two', 'seven', 'three', 'ten', 'eleven']"
      ]
     },
     "execution_count": 192,
     "metadata": {},
     "output_type": "execute_result"
    }
   ],
   "source": [
    "list(df.experience.unique())"
   ]
  },
  {
   "cell_type": "code",
   "execution_count": 80,
   "metadata": {},
   "outputs": [
    {
     "ename": "ModuleNotFoundError",
     "evalue": "No module named 'word2number'",
     "output_type": "error",
     "traceback": [
      "\u001b[1;31m---------------------------------------------------------------------------\u001b[0m",
      "\u001b[1;31mModuleNotFoundError\u001b[0m                       Traceback (most recent call last)",
      "\u001b[1;32m<ipython-input-80-546a158f29fa>\u001b[0m in \u001b[0;36m<module>\u001b[1;34m\u001b[0m\n\u001b[1;32m----> 1\u001b[1;33m \u001b[1;32mfrom\u001b[0m \u001b[0mword2number\u001b[0m \u001b[1;32mimport\u001b[0m \u001b[0mw2n\u001b[0m\u001b[1;33m\u001b[0m\u001b[1;33m\u001b[0m\u001b[0m\n\u001b[0m",
      "\u001b[1;31mModuleNotFoundError\u001b[0m: No module named 'word2number'"
     ]
    }
   ],
   "source": [
    "# from word2number import w2n"
   ]
  },
  {
   "cell_type": "code",
   "execution_count": 136,
   "metadata": {},
   "outputs": [
    {
     "data": {
      "text/plain": [
       "[nan, 'five', 'two', 'seven', 'three', 'ten', 'eleven']"
      ]
     },
     "execution_count": 136,
     "metadata": {},
     "output_type": "execute_result"
    }
   ],
   "source": [
    "# (+5+2+7+3+10+11)/6\n",
    "list(df.experience.unique())"
   ]
  },
  {
   "cell_type": "code",
   "execution_count": 193,
   "metadata": {},
   "outputs": [],
   "source": [
    "df.experience = df.experience.fillna(6)"
   ]
  },
  {
   "cell_type": "code",
   "execution_count": 194,
   "metadata": {},
   "outputs": [],
   "source": [
    "df.replace({\"experience\":{\"five\":5,\"two\":2,\"seven\":7,\"ten\":10,\"eleven\":11,\"three\":4}},inplace=True)\n"
   ]
  },
  {
   "cell_type": "code",
   "execution_count": 195,
   "metadata": {},
   "outputs": [
    {
     "data": {
      "text/plain": [
       "0     6\n",
       "1     6\n",
       "2     5\n",
       "3     2\n",
       "4     7\n",
       "5     4\n",
       "6    10\n",
       "7    11\n",
       "Name: experience, dtype: int64"
      ]
     },
     "execution_count": 195,
     "metadata": {},
     "output_type": "execute_result"
    }
   ],
   "source": [
    "df.experience"
   ]
  },
  {
   "cell_type": "code",
   "execution_count": 196,
   "metadata": {},
   "outputs": [
    {
     "data": {
      "text/html": [
       "<div>\n",
       "<style scoped>\n",
       "    .dataframe tbody tr th:only-of-type {\n",
       "        vertical-align: middle;\n",
       "    }\n",
       "\n",
       "    .dataframe tbody tr th {\n",
       "        vertical-align: top;\n",
       "    }\n",
       "\n",
       "    .dataframe thead th {\n",
       "        text-align: right;\n",
       "    }\n",
       "</style>\n",
       "<table border=\"1\" class=\"dataframe\">\n",
       "  <thead>\n",
       "    <tr style=\"text-align: right;\">\n",
       "      <th></th>\n",
       "      <th>experience</th>\n",
       "      <th>test_score(out of 10)</th>\n",
       "      <th>interview_score(out of 10)</th>\n",
       "      <th>salary($)</th>\n",
       "    </tr>\n",
       "  </thead>\n",
       "  <tbody>\n",
       "    <tr>\n",
       "      <th>0</th>\n",
       "      <td>6</td>\n",
       "      <td>8.0</td>\n",
       "      <td>9</td>\n",
       "      <td>50000</td>\n",
       "    </tr>\n",
       "    <tr>\n",
       "      <th>1</th>\n",
       "      <td>6</td>\n",
       "      <td>8.0</td>\n",
       "      <td>6</td>\n",
       "      <td>45000</td>\n",
       "    </tr>\n",
       "    <tr>\n",
       "      <th>2</th>\n",
       "      <td>5</td>\n",
       "      <td>6.0</td>\n",
       "      <td>7</td>\n",
       "      <td>60000</td>\n",
       "    </tr>\n",
       "    <tr>\n",
       "      <th>3</th>\n",
       "      <td>2</td>\n",
       "      <td>10.0</td>\n",
       "      <td>10</td>\n",
       "      <td>65000</td>\n",
       "    </tr>\n",
       "    <tr>\n",
       "      <th>4</th>\n",
       "      <td>7</td>\n",
       "      <td>9.0</td>\n",
       "      <td>6</td>\n",
       "      <td>70000</td>\n",
       "    </tr>\n",
       "    <tr>\n",
       "      <th>5</th>\n",
       "      <td>4</td>\n",
       "      <td>7.0</td>\n",
       "      <td>10</td>\n",
       "      <td>62000</td>\n",
       "    </tr>\n",
       "    <tr>\n",
       "      <th>6</th>\n",
       "      <td>10</td>\n",
       "      <td>NaN</td>\n",
       "      <td>7</td>\n",
       "      <td>72000</td>\n",
       "    </tr>\n",
       "    <tr>\n",
       "      <th>7</th>\n",
       "      <td>11</td>\n",
       "      <td>7.0</td>\n",
       "      <td>8</td>\n",
       "      <td>80000</td>\n",
       "    </tr>\n",
       "  </tbody>\n",
       "</table>\n",
       "</div>"
      ],
      "text/plain": [
       "   experience  test_score(out of 10)  interview_score(out of 10)  salary($)\n",
       "0           6                    8.0                           9      50000\n",
       "1           6                    8.0                           6      45000\n",
       "2           5                    6.0                           7      60000\n",
       "3           2                   10.0                          10      65000\n",
       "4           7                    9.0                           6      70000\n",
       "5           4                    7.0                          10      62000\n",
       "6          10                    NaN                           7      72000\n",
       "7          11                    7.0                           8      80000"
      ]
     },
     "execution_count": 196,
     "metadata": {},
     "output_type": "execute_result"
    }
   ],
   "source": [
    "df.head(10)"
   ]
  },
  {
   "cell_type": "code",
   "execution_count": 197,
   "metadata": {},
   "outputs": [],
   "source": [
    "import math\n",
    "df['test_score(out of 10)']= df['test_score(out of 10)'].fillna(math.floor(df['test_score(out of 10)'].mean()))"
   ]
  },
  {
   "cell_type": "code",
   "execution_count": 198,
   "metadata": {},
   "outputs": [],
   "source": [
    "X= df.drop('salary($)',axis=1)"
   ]
  },
  {
   "cell_type": "code",
   "execution_count": 199,
   "metadata": {},
   "outputs": [
    {
     "data": {
      "text/plain": [
       "7"
      ]
     },
     "execution_count": 199,
     "metadata": {},
     "output_type": "execute_result"
    }
   ],
   "source": [
    "math.floor(df['test_score(out of 10)'].mean())"
   ]
  },
  {
   "cell_type": "code",
   "execution_count": 200,
   "metadata": {},
   "outputs": [
    {
     "name": "stdout",
     "output_type": "stream",
     "text": [
      "<class 'pandas.core.frame.DataFrame'>\n",
      "RangeIndex: 8 entries, 0 to 7\n",
      "Data columns (total 4 columns):\n",
      " #   Column                      Non-Null Count  Dtype  \n",
      "---  ------                      --------------  -----  \n",
      " 0   experience                  8 non-null      int64  \n",
      " 1   test_score(out of 10)       8 non-null      float64\n",
      " 2   interview_score(out of 10)  8 non-null      int64  \n",
      " 3   salary($)                   8 non-null      int64  \n",
      "dtypes: float64(1), int64(3)\n",
      "memory usage: 320.0 bytes\n"
     ]
    }
   ],
   "source": [
    "df.info()"
   ]
  },
  {
   "cell_type": "code",
   "execution_count": 201,
   "metadata": {},
   "outputs": [],
   "source": [
    "# def gradient_descent(x,y):\n",
    "#     m_curr = b_curr = 0\n",
    "#     iterations = 100\n",
    "#     n = len(x)\n",
    "#     learning_rate = 0.08\n",
    "\n",
    "#     for i in range(iterations):\n",
    "#         y_predicted = m_curr * x + b_curr\n",
    "# #         cost = (1/n) * sum([val**2 for val in (y-y_predicted)])\n",
    "#         cost = (1/n) * sum((y-y_predicted)**2)\n",
    "#         md = -(2/n)*sum(x*(y-y_predicted))\n",
    "#         bd = -(2/n)*sum(y-y_predicted)\n",
    "#         m_curr = m_curr - learning_rate * md\n",
    "#         b_curr = b_curr - learning_rate * bd\n",
    "#         print (\"m {}, b {}, cost {}, iteration {}, md {}, bd {}\".format(m_curr,b_curr,cost, i,md,bd))"
   ]
  },
  {
   "cell_type": "code",
   "execution_count": 208,
   "metadata": {},
   "outputs": [],
   "source": [
    "# X = np.array(X)\n",
    "# Y= np.array(df['salary($)'])"
   ]
  },
  {
   "cell_type": "code",
   "execution_count": 212,
   "metadata": {},
   "outputs": [],
   "source": [
    "# gradient_descent(X,Y)\n"
   ]
  },
  {
   "cell_type": "code",
   "execution_count": 174,
   "metadata": {},
   "outputs": [],
   "source": [
    "model = linear_model.LinearRegression()"
   ]
  },
  {
   "cell_type": "code",
   "execution_count": 175,
   "metadata": {},
   "outputs": [
    {
     "data": {
      "text/plain": [
       "LinearRegression()"
      ]
     },
     "execution_count": 175,
     "metadata": {},
     "output_type": "execute_result"
    }
   ],
   "source": [
    "model.fit(X,df['salary($)'])"
   ]
  },
  {
   "cell_type": "code",
   "execution_count": 176,
   "metadata": {},
   "outputs": [
    {
     "data": {
      "text/plain": [
       "array([65314.55789177, 57187.4527028 , 53579.30348849, 59113.2313445 ,\n",
       "       61868.79943021, 60296.73704984, 70442.68692594, 76197.23116644])"
      ]
     },
     "execution_count": 176,
     "metadata": {},
     "output_type": "execute_result"
    }
   ],
   "source": [
    "model.predict(X)"
   ]
  },
  {
   "cell_type": "code",
   "execution_count": 177,
   "metadata": {},
   "outputs": [
    {
     "data": {
      "text/plain": [
       "0.41160596339597144"
      ]
     },
     "execution_count": 177,
     "metadata": {},
     "output_type": "execute_result"
    }
   ],
   "source": [
    "model.score(X,df['salary($)'])"
   ]
  },
  {
   "cell_type": "code",
   "execution_count": 178,
   "metadata": {},
   "outputs": [
    {
     "data": {
      "text/plain": [
       "array([3045.50917751, 1635.83754989, 2709.03506299])"
      ]
     },
     "execution_count": 178,
     "metadata": {},
     "output_type": "execute_result"
    }
   ],
   "source": [
    "model.coef_"
   ]
  },
  {
   "cell_type": "code",
   "execution_count": 179,
   "metadata": {},
   "outputs": [
    {
     "data": {
      "text/plain": [
       "9573.48686065321"
      ]
     },
     "execution_count": 179,
     "metadata": {},
     "output_type": "execute_result"
    }
   ],
   "source": [
    "model.intercept_"
   ]
  },
  {
   "cell_type": "code",
   "execution_count": 180,
   "metadata": {},
   "outputs": [
    {
     "data": {
      "text/plain": [
       "array([46641.25354265])"
      ]
     },
     "execution_count": 180,
     "metadata": {},
     "output_type": "execute_result"
    }
   ],
   "source": [
    "model.predict([[2,9,6]])"
   ]
  },
  {
   "cell_type": "code",
   "execution_count": 181,
   "metadata": {},
   "outputs": [
    {
     "data": {
      "text/html": [
       "<div>\n",
       "<style scoped>\n",
       "    .dataframe tbody tr th:only-of-type {\n",
       "        vertical-align: middle;\n",
       "    }\n",
       "\n",
       "    .dataframe tbody tr th {\n",
       "        vertical-align: top;\n",
       "    }\n",
       "\n",
       "    .dataframe thead th {\n",
       "        text-align: right;\n",
       "    }\n",
       "</style>\n",
       "<table border=\"1\" class=\"dataframe\">\n",
       "  <thead>\n",
       "    <tr style=\"text-align: right;\">\n",
       "      <th></th>\n",
       "      <th>experience</th>\n",
       "      <th>test_score(out of 10)</th>\n",
       "      <th>interview_score(out of 10)</th>\n",
       "    </tr>\n",
       "  </thead>\n",
       "  <tbody>\n",
       "    <tr>\n",
       "      <th>0</th>\n",
       "      <td>6</td>\n",
       "      <td>8.0</td>\n",
       "      <td>9</td>\n",
       "    </tr>\n",
       "    <tr>\n",
       "      <th>1</th>\n",
       "      <td>6</td>\n",
       "      <td>8.0</td>\n",
       "      <td>6</td>\n",
       "    </tr>\n",
       "    <tr>\n",
       "      <th>2</th>\n",
       "      <td>5</td>\n",
       "      <td>6.0</td>\n",
       "      <td>7</td>\n",
       "    </tr>\n",
       "    <tr>\n",
       "      <th>3</th>\n",
       "      <td>2</td>\n",
       "      <td>10.0</td>\n",
       "      <td>10</td>\n",
       "    </tr>\n",
       "    <tr>\n",
       "      <th>4</th>\n",
       "      <td>7</td>\n",
       "      <td>9.0</td>\n",
       "      <td>6</td>\n",
       "    </tr>\n",
       "    <tr>\n",
       "      <th>5</th>\n",
       "      <td>4</td>\n",
       "      <td>7.0</td>\n",
       "      <td>10</td>\n",
       "    </tr>\n",
       "    <tr>\n",
       "      <th>6</th>\n",
       "      <td>10</td>\n",
       "      <td>7.0</td>\n",
       "      <td>7</td>\n",
       "    </tr>\n",
       "    <tr>\n",
       "      <th>7</th>\n",
       "      <td>11</td>\n",
       "      <td>7.0</td>\n",
       "      <td>8</td>\n",
       "    </tr>\n",
       "  </tbody>\n",
       "</table>\n",
       "</div>"
      ],
      "text/plain": [
       "   experience  test_score(out of 10)  interview_score(out of 10)\n",
       "0           6                    8.0                           9\n",
       "1           6                    8.0                           6\n",
       "2           5                    6.0                           7\n",
       "3           2                   10.0                          10\n",
       "4           7                    9.0                           6\n",
       "5           4                    7.0                          10\n",
       "6          10                    7.0                           7\n",
       "7          11                    7.0                           8"
      ]
     },
     "execution_count": 181,
     "metadata": {},
     "output_type": "execute_result"
    }
   ],
   "source": [
    "X"
   ]
  },
  {
   "cell_type": "code",
   "execution_count": 104,
   "metadata": {},
   "outputs": [
    {
     "data": {
      "text/plain": [
       "array([93563.08155525])"
      ]
     },
     "execution_count": 104,
     "metadata": {},
     "output_type": "execute_result"
    }
   ],
   "source": [
    "model.predict([[12,10,10]])"
   ]
  },
  {
   "cell_type": "code",
   "execution_count": 105,
   "metadata": {},
   "outputs": [
    {
     "data": {
      "text/plain": [
       "array([54315.35855939])"
      ]
     },
     "execution_count": 105,
     "metadata": {},
     "output_type": "execute_result"
    }
   ],
   "source": [
    "model.predict([[2,9,6]])"
   ]
  },
  {
   "cell_type": "code",
   "execution_count": 128,
   "metadata": {},
   "outputs": [
    {
     "name": "stdout",
     "output_type": "stream",
     "text": [
      "m 4.96, b 1.44, cost 89.0, iteration 0, md -62.0, bd -18.0\n",
      "m 0.4991999999999983, b 0.26879999999999993, cost 71.10560000000002, iteration 1, md 55.76000000000002, bd 14.64\n",
      "m 4.451584000000002, b 1.426176000000001, cost 56.8297702400001, iteration 2, md -49.404800000000044, bd -14.467200000000012\n",
      "m 0.892231679999997, b 0.5012275199999995, cost 45.43965675929613, iteration 3, md 44.49190400000006, bd 11.561856000000018\n",
      "m 4.041314713600002, b 1.432759910400001, cost 36.35088701894832, iteration 4, md -39.36353792000007, bd -11.64415488000002\n",
      "m 1.2008760606719973, b 0.7036872622079998, cost 29.097483330142282, iteration 5, md 35.50548316160006, bd 9.113408102400015\n",
      "m 3.7095643080294423, b 1.4546767911321612, cost 23.307872849944438, iteration 6, md -31.35860309196806, bd -9.387369111552017\n",
      "m 1.4424862661541864, b 0.881337636696883, cost 18.685758762535738, iteration 7, md 28.338475523440696, bd 7.166739430440977\n",
      "m 3.4406683721083144, b 1.4879302070713722, cost 14.994867596913156, iteration 8, md -24.9772763244266, bd -7.5824071296811155\n",
      "m 1.6308855378034224, b 1.0383405553279617, cost 12.046787238456794, iteration 9, md 22.62228542881115, bd 5.619870646792631\n",
      "m 3.2221235247119777, b 1.5293810083298451, cost 9.691269350698109, iteration 10, md -19.890474836356944, bd -6.138005662523543\n",
      "m 1.7770832372205707, b 1.1780607551353204, cost 7.8084968312098315, iteration 11, md 18.063003593642588, bd 4.391503164931558\n",
      "m 3.0439475772474127, b 1.5765710804477953, cost 6.302918117062937, iteration 12, md -15.835804250335523, bd -4.981379066405935\n",
      "m 1.8898457226770244, b 1.3032248704973899, cost 5.098330841763168, iteration 13, md 14.426273182129854, bd 3.4168276243800677\n",
      "m 2.898169312926714, b 1.6275829443328358, cost 4.133961682056365, iteration 14, md -12.604044878121123, bd -4.054475922943074\n",
      "m 1.9761515088959358, b 1.4160484030347593, cost 3.361340532576948, iteration 15, md 11.52522255038473, bd 2.644181766225957\n",
      "m 2.7784216197824048, b 1.6809279342791488, cost 2.741808050753047, iteration 16, md -10.02837638608086, bd -3.310994140554867\n",
      "m 2.0415541605113807, b 1.5183370872989306, cost 2.244528230107478, iteration 17, md 9.210843240887797, bd 2.032385587252726\n",
      "m 2.6796170361078637, b 1.735457156285639, cost 1.8449036666988363, iteration 18, md -7.975785944956036, bd -2.7140008623338536\n",
      "m 2.090471617540917, b 1.611567833948162, cost 1.5233119201782324, iteration 19, md 7.364317732086835, bd 1.5486165292184602\n",
      "m 2.5976890103737853, b 1.790290604096816, cost 1.2640979056612756, iteration 20, md -6.340217410410856, bd -2.2340346268581746\n",
      "m 2.1264168621494517, b 1.6969533824619085, cost 1.0547704368105268, iteration 21, md 5.890901852804172, bd 1.1667152704363435\n",
      "m 2.529385561184701, b 1.8447607474362664, cost 0.8853615531285766, iteration 22, md -5.037108737940613, bd -1.8475920621794732\n",
      "m 2.1521818147302194, b 1.7754939584778073, cost 0.7479156468369821, iteration 23, md 4.715046830681017, bd 0.8658348619807381\n",
      "m 2.472104720735685, b 1.8983676540508527, cost 0.6360820885229722, iteration 24, md -3.9990363250683245, bd -1.535921194663068\n",
      "m 2.1699839382964696, b 1.8480185634495874, cost 0.5447903801652151, iteration 25, md 3.776509780490193, bd 0.6293636325158172\n",
      "m 2.423763296438881, b 1.950743302915348, cost 0.4699911136477278, iteration 26, md -3.172241976780145, bd -1.284059243322008\n",
      "m 2.1815831093070837, b 1.9152179921582295, cost 0.4084494012702221, iteration 27, md 3.0272523391474686, bd 0.4440663844639815\n",
      "m 2.3826922006906663, b 2.0016232209455125, cost 0.35758014655339476, iteration 28, md -2.513863642294782, bd -1.0800653598410388\n",
      "m 2.1883747814212473, b 1.9776712492627107, cost 0.31531667795040486, iteration 29, md 2.428967740867737, bd 0.2993996460350239\n",
      "m 2.3475529664737507, b 2.0508239542984783, cost 0.280005985849834, iteration 30, md -1.989727313156294, bd -0.9144088129470944\n",
      "m 2.19146424741668, b 2.0358666977033213, cost 0.2503251729489924, iteration 31, md 1.9511089882133832, bd 0.18696570743946028\n",
      "m 2.317271157065729, b 2.0982251873107836, cost 0.2252148202231392, iteration 32, md -1.5725863706131176, bd -0.7794811200932789\n",
      "m 2.19172583072087, b 2.0902190019495084, cost 0.2038258415569305, iteration 33, md 1.5693165793107404, bd 0.10007731701594125\n",
      "m 2.2909832477163747, b 2.1437555628915694, cost 0.1854770944836773, iteration 34, md -1.2407177124438142, bd -0.6692070117757645\n",
      "m 2.1898500615476015, b 2.1410827139250586, cost 0.16962156815305135, iteration 35, md 1.2641648271096622, bd 0.033410612081387826\n",
      "m 2.2679942505397945, b 2.1873814501542004, cost 0.15581941113049289, iteration 36, md -0.9768023624024142, bd -0.5787342028642737\n",
      "m 2.1863812735157397, b 2.188763177870427, cost 0.14371641365577967, iteration 37, md 1.0201622128006826, bd -0.017271596452831873\n",
      "m 2.247743906750233, b 2.2290980581236037, cost 0.13302683968149862, iteration 38, md -0.7670329154311638, bd -0.5041860031647076\n",
      "m 2.181747562970493, b 2.2335252935837153, cost 0.1235197278285518, iteration 39, md 0.8249542972467503, bd -0.05534044325139434\n",
      "m 2.2297797112222417, b 2.268922416384484, cost 0.11500795886067308, iteration 40, md -0.6004018531468596, bd -0.4424640350096105\n",
      "m 2.176284659606544, b 2.2756005683762908, cost 0.1073395295828815, iteration 41, md 0.6686881451962233, bd -0.08347689989758145\n",
      "m 2.213735385878407, b 2.306887840824943, cost 0.10039058653754176, iteration 42, md -0.4681340783982883, bd -0.3910909056081547\n",
      "m 2.170254943136438, b 2.315192801071317, cost 0.09405986334903649, iteration 43, md 0.5435055342746097, bd -0.10381200307967263\n",
      "m 2.1993136987020745, b 2.3430395801944157, cost 0.08826423771269985, iteration 44, md -0.3632344445704554, bd -0.34808473903873605\n",
      "m 2.1638625904931037, b 2.3524826719863134, cost 0.08293518155053264, iteration 45, md 0.4431388526121346, bd -0.11803864739872126\n",
      "m 2.1862727486718105, b 2.3774314010318136, cost 0.07801592372722821, iteration 46, md -0.28012697723383656, bd -0.3118591130687506\n",
      "m 2.1572656385141533, b 2.3876314575042543, cost 0.07345918129710392, iteration 47, md 0.36258887697071424, bd -0.12750070590550955\n",
      "m 2.1744150151272015, b 2.4101229178167802, cost 0.06922534441882239, iteration 48, md -0.2143672076631006, bd -0.2811432539065713\n",
      "m 2.150585587951272, b 2.4207840437050385, cost 0.06528102333197575, iteration 49, md 0.29786783969911673, bd -0.13326407360322998\n",
      "m 2.1635786121786147, b 2.441177514495622, cost 0.06159788433500965, iteration 50, md -0.16241280284178006, bd -0.25491838488228996\n",
      "m 2.1439150477863547, b 2.4520713783305874, cost 0.05815171649232756, iteration 51, md 0.24579455490324983, bd -0.1361732979370693\n",
      "m 2.153630302083688, b 2.470660734860243, cost 0.054921682590988646, iteration 52, md -0.12144067871666878, bd -0.23236695662069595\n",
      "m 2.137323817683481, b 2.4816124722824338, cost 0.05188971727120564, iteration 53, md 0.20383105500259158, bd -0.13689671777738646\n",
      "m 2.1444599118649865, b 2.4986390442291735, cost 0.04904004275389065, iteration 54, md -0.0892011772688207, bd -0.21283214933424796\n",
      "m 2.1308637257526066, b 2.509516039457312, cost 0.04635877856867898, iteration 55, md 0.1699523264047471, bd -0.135962440351733\n",
      "m 2.1359758694885094, b 2.525178884782891, cost 0.04383362645496491, iteration 56, md -0.06390179669878329, bd -0.19578556656973625\n",
      "m 2.124572474492945, b 2.535881845863144, cost 0.04145361541183607, iteration 57, md 0.14254243744455194, bd -0.13378701350316186\n",
      "m 2.128101633371053, b 2.5503459627684273, cost 0.03920889490609494, iteration 58, md -0.04411448597634724, bd -0.18080146131604238\n",
      "m 2.118476696509155, b 2.5608018247073736, cost 0.03709056666678448, iteration 59, md 0.1203117107737267, bd -0.13069827423682803\n",
      "m 2.120772834793503, b 2.5742047184297996, cost 0.03509054742420437, iteration 60, md -0.028701728554345253, bd -0.1675361715303222\n",
      "m 2.112594380710634, b 2.5843610027801502, cost 0.03320145649050715, iteration 61, md 0.10223067603585854, bd -0.12695355437938396\n",
      "m 2.1139349893254455, b 2.5968179395942217, cost 0.03141652330669783, iteration 62, md -0.016757607685143228, bd -0.15571171017589336\n",
      "m 2.1069367971074353, b 2.606638274382932, cost 0.0297295110602709, iteration 63, md 0.08747740272513056, bd -0.12275418485888352\n",
      "m 2.1075416624945413, b 2.618246487870094, cost 0.0281346532591438, iteration 64, md -0.007560817338827519, bd -0.14510266858952292\n",
      "m 2.1015100223265035, b 2.6277070518134993, cost 0.02662660077102551, iteration 65, md 0.0753955021004714, bd -0.11825704929256418\n",
      "m 2.101552998161378, b 2.6385491128066176, cost 0.025200377334927134, iteration 66, md -0.0005371979359281909, bd -0.13552576241398065\n",
      "m 2.096316147250177, b 2.6476358156400974, cost 0.023851341948628327, iteration 67, md 0.06546063639001432, bd -0.11358378541849845\n",
      "m 2.095934536582619, b 2.657782334457597, cost 0.022575156852933542, iteration 68, md 0.004770133344471717, bd -0.1268314852187448\n",
      "m 2.0913542316575633, b 2.6664885833847243, cost 0.021367760086655644, iteration 69, md 0.05725381156319749, bd -0.10882811158909256\n",
      "m 2.090656263915584, b 2.676000378847538, cost 0.020225341788425083, iteration 70, md 0.00872459677474069, bd -0.11889744328517082\n",
      "m 2.0866210575773376, b 2.6843253115524512, cost 0.019144323582910155, iteration 71, md 0.05044007922807978, bd -0.10406165881141903\n",
      "m 2.0856918466960472, b 2.693255154066937, cost 0.018121340518098442, iteration 72, md 0.01161513601613251, bd -0.11162303143107266\n",
      "m 2.082111722558874, b 2.7012022430021245, cost 0.017153225123473996, iteration 73, md 0.04475155171466483, bd -0.09933861168984137\n",
      "m 2.0810180142142363, b 2.709596257293525, cost 0.01623699324146153, iteration 74, md 0.013671354307968642, bd -0.10492517864250886\n",
      "m 2.077820105696288, b 2.717172209303728, cost 0.015369831350564987, iteration 75, md 0.03997385647434868, bd -0.09469940012753214\n",
      "m 2.0766140592050317, b 2.7250710050809133, cost 0.014549085151541019, iteration 76, md 0.015075581140706618, bd -0.09873494721481535\n",
      "m 2.0737392325653374, b 2.732284895849552, cost 0.013772249230347736, iteration 77, md 0.03593533299617704, bd -0.09017363460798329\n",
      "m 2.0724614332425584, b 2.7397244808822614, cost 0.013036957645638886, iteration 78, md 0.01597249153473861, bd -0.09299481290887074\n",
      "m 2.0698615599121704, b 2.7465870759846718, cost 0.012340975315898037, iteration 79, md 0.03249841662985133, bd -0.08578243878012728\n",
      "m 2.0685434179941087, b 2.7535995950692826, cost 0.011682190103287127, iteration 80, md 0.016476773975773542, bd -0.08765648855763537\n",
      "m 2.066179196691222, b 2.760122819221025, cost 0.011058605508984853, iteration 81, md 0.029552766286084164, bd -0.08154030189678352\n",
      "m 2.064844857288579, b 2.7667371537338745, cost 0.010468333909073289, iteration 82, md 0.016679242533032834, bd -0.08267918141061799\n",
      "m 2.0626840746684203, b 2.7729336776379365, cost 0.009909590271584152, iteration 83, md 0.027009782751987645, bd -0.0774565488007763\n",
      "m 2.061351937985791, b 2.7791759333750248, cost 0.009380686304666458, iteration 84, md 0.016651708532867106, bd -0.07802819671360482\n",
      "m 2.0593680791107873, b 2.785058853801841, cost 0.00888002499345325, iteration 85, md 0.0247982359375456, bd -0.0735365053352055\n",
      "m 2.0580520100509183, b 2.7909527592203687, cost 0.00840609548939642, iteration 86, md 0.01645086324836491, bd -0.07367381773159458\n",
      "m 2.056223147935525, b 2.7965353529206687, cost 0.007957468320912865, iteration 87, md 0.022860776442417574, bd -0.06978242125375189\n",
      "m 2.05493343816708, b 2.8021025854443096, cost 0.007532790898352296, iteration 88, md 0.016121372105560285, bd -0.06959040654551317\n",
      "m 2.0532413459797505, b 2.8073981214530215, cost 0.007130783289727114, iteration 89, md 0.021151152341618486, bd -0.0661942001089006\n",
      "m 2.0519854787579397, b 2.812658575950258, cost 0.0067502342464980354, iteration 90, md 0.015698340272636814, bd -0.0657556812154546\n",
      "m 2.050414919687842, b 2.8176801739944057, cost 0.006389997461079277, iteration 91, md 0.019631988376222865, bd -0.06276997555184564\n",
      "m 2.0491981775199255, b 2.8226521847051367, cost 0.006048988039717134, iteration 92, md 0.015209277098955455, bd -0.06215013388413731\n",
      "m 2.047736336426391, b 2.8274127099427506, cost 0.005726179176078216, iteration 93, md 0.01827301366918164, bd -0.05950656547017346\n",
      "m 2.0465622835434223, b 2.8321132348672426, cost 0.005420599012302664, iteration 94, md 0.014675661037109933, bd -0.05875656155615161\n",
      "m 2.045198311770722, b 2.836625221187641, cost 0.005131327675503935, iteration 95, md 0.017049647158751215, bd -0.05639982900497991\n",
      "m 2.0440691768841837, b 2.8410699961476715, cost 0.0048574944787420265, iteration 96, md 0.01411418608173065, bd -0.05555968700038605\n",
      "m 2.042793827417138, b 2.845345591859636, cost 0.004598275276411798, iteration 97, md 0.015941868338071787, bd -0.05344494639955464\n",
      "m 2.0417108070703494, b 2.8495492600018677, cost 0.004352889964781892, iteration 98, md 0.013537754334856801, bd -0.05254585177789899\n",
      "m 2.0405161418256377, b 2.8536001910078013, cost 0.004120600119124239, iteration 99, md 0.014933315558893413, bd -0.05063663757416812\n"
     ]
    }
   ],
   "source": [
    "import numpy as np\n",
    "\n",
    "def gradient_descent(x,y):\n",
    "    m_curr = b_curr = 0\n",
    "    iterations = 100\n",
    "    n = len(x)\n",
    "    learning_rate = 0.08\n",
    "\n",
    "    for i in range(iterations):\n",
    "        y_predicted = m_curr * x + b_curr\n",
    "#         cost = (1/n) * sum([val**2 for val in (y-y_predicted)])\n",
    "        cost = (1/n) * sum((y-y_predicted)**2)\n",
    "        md = -(2/n)*sum(x*(y-y_predicted))\n",
    "        bd = -(2/n)*sum(y-y_predicted)\n",
    "        m_curr = m_curr - learning_rate * md\n",
    "        b_curr = b_curr - learning_rate * bd\n",
    "        print (\"m {}, b {}, cost {}, iteration {}, md {}, bd {}\".format(m_curr,b_curr,cost, i,md,bd))\n",
    "\n",
    "x = np.array([1,2,3,4,5])\n",
    "y = np.array([5,7,9,11,13])\n",
    "\n",
    "gradient_descent(x,y)"
   ]
  },
  {
   "cell_type": "code",
   "execution_count": 110,
   "metadata": {},
   "outputs": [
    {
     "data": {
      "text/plain": [
       "array([-1,  0,  1,  2,  3])"
      ]
     },
     "execution_count": 110,
     "metadata": {},
     "output_type": "execute_result"
    }
   ],
   "source": [
    "x = np.array([1,2,3,4,5])\n",
    "y = np.array([5,7,9,11,13])\n",
    "x-2"
   ]
  },
  {
   "cell_type": "code",
   "execution_count": 127,
   "metadata": {},
   "outputs": [
    {
     "data": {
      "text/plain": [
       "4.96"
      ]
     },
     "execution_count": 127,
     "metadata": {},
     "output_type": "execute_result"
    }
   ],
   "source": [
    "# for val in [1,2,3]:\n",
    "#     print(val)\n",
    "(5**2+7**2+9**2+11**2+13**2)/5\n",
    "0.08*62"
   ]
  },
  {
   "cell_type": "code",
   "execution_count": 121,
   "metadata": {},
   "outputs": [
    {
     "data": {
      "text/plain": [
       "89.0"
      ]
     },
     "execution_count": 121,
     "metadata": {},
     "output_type": "execute_result"
    }
   ],
   "source": [
    "sum((y-0)**2)/5"
   ]
  },
  {
   "cell_type": "code",
   "execution_count": 183,
   "metadata": {},
   "outputs": [
    {
     "name": "stdout",
     "output_type": "stream",
     "text": [
      "m 4.96,c 1.44,cost89.0,md-62.0,cd-18.0\n",
      "m 0.4991999999999983,c 0.26879999999999993,cost71.10560000000002,md55.76000000000002,cd14.64\n",
      "m 4.451584000000002,c 1.426176000000001,cost56.8297702400001,md-49.404800000000044,cd-14.467200000000012\n",
      "m 0.892231679999997,c 0.5012275199999995,cost45.43965675929613,md44.49190400000006,cd11.561856000000018\n",
      "m 4.041314713600002,c 1.432759910400001,cost36.35088701894832,md-39.36353792000007,cd-11.64415488000002\n",
      "m 1.2008760606719973,c 0.7036872622079998,cost29.097483330142282,md35.50548316160006,cd9.113408102400015\n",
      "m 3.7095643080294423,c 1.4546767911321612,cost23.307872849944438,md-31.35860309196806,cd-9.387369111552017\n",
      "m 1.4424862661541864,c 0.881337636696883,cost18.685758762535738,md28.338475523440696,cd7.166739430440977\n",
      "m 3.4406683721083144,c 1.4879302070713722,cost14.994867596913156,md-24.9772763244266,cd-7.5824071296811155\n",
      "m 1.6308855378034224,c 1.0383405553279617,cost12.046787238456794,md22.62228542881115,cd5.619870646792631\n",
      "m 3.2221235247119777,c 1.5293810083298451,cost9.691269350698109,md-19.890474836356944,cd-6.138005662523543\n",
      "m 1.7770832372205707,c 1.1780607551353204,cost7.8084968312098315,md18.063003593642588,cd4.391503164931558\n",
      "m 3.0439475772474127,c 1.5765710804477953,cost6.302918117062937,md-15.835804250335523,cd-4.981379066405935\n",
      "m 1.8898457226770244,c 1.3032248704973899,cost5.098330841763168,md14.426273182129854,cd3.4168276243800677\n",
      "m 2.898169312926714,c 1.6275829443328358,cost4.133961682056365,md-12.604044878121123,cd-4.054475922943074\n",
      "m 1.9761515088959358,c 1.4160484030347593,cost3.361340532576948,md11.52522255038473,cd2.644181766225957\n",
      "m 2.7784216197824048,c 1.6809279342791488,cost2.741808050753047,md-10.02837638608086,cd-3.310994140554867\n",
      "m 2.0415541605113807,c 1.5183370872989306,cost2.244528230107478,md9.210843240887797,cd2.032385587252726\n",
      "m 2.6796170361078637,c 1.735457156285639,cost1.8449036666988363,md-7.975785944956036,cd-2.7140008623338536\n",
      "m 2.090471617540917,c 1.611567833948162,cost1.5233119201782324,md7.364317732086835,cd1.5486165292184602\n",
      "m 2.5976890103737853,c 1.790290604096816,cost1.2640979056612756,md-6.340217410410856,cd-2.2340346268581746\n",
      "m 2.1264168621494517,c 1.6969533824619085,cost1.0547704368105268,md5.890901852804172,cd1.1667152704363435\n",
      "m 2.529385561184701,c 1.8447607474362664,cost0.8853615531285766,md-5.037108737940613,cd-1.8475920621794732\n",
      "m 2.1521818147302194,c 1.7754939584778073,cost0.7479156468369821,md4.715046830681017,cd0.8658348619807381\n",
      "m 2.472104720735685,c 1.8983676540508527,cost0.6360820885229722,md-3.9990363250683245,cd-1.535921194663068\n",
      "m 2.1699839382964696,c 1.8480185634495874,cost0.5447903801652151,md3.776509780490193,cd0.6293636325158172\n",
      "m 2.423763296438881,c 1.950743302915348,cost0.4699911136477278,md-3.172241976780145,cd-1.284059243322008\n",
      "m 2.1815831093070837,c 1.9152179921582295,cost0.4084494012702221,md3.0272523391474686,cd0.4440663844639815\n",
      "m 2.3826922006906663,c 2.0016232209455125,cost0.35758014655339476,md-2.513863642294782,cd-1.0800653598410388\n",
      "m 2.1883747814212473,c 1.9776712492627107,cost0.31531667795040486,md2.428967740867737,cd0.2993996460350239\n",
      "m 2.3475529664737507,c 2.0508239542984783,cost0.280005985849834,md-1.989727313156294,cd-0.9144088129470944\n",
      "m 2.19146424741668,c 2.0358666977033213,cost0.2503251729489924,md1.9511089882133832,cd0.18696570743946028\n",
      "m 2.317271157065729,c 2.0982251873107836,cost0.2252148202231392,md-1.5725863706131176,cd-0.7794811200932789\n",
      "m 2.19172583072087,c 2.0902190019495084,cost0.2038258415569305,md1.5693165793107404,cd0.10007731701594125\n",
      "m 2.2909832477163747,c 2.1437555628915694,cost0.1854770944836773,md-1.2407177124438142,cd-0.6692070117757645\n",
      "m 2.1898500615476015,c 2.1410827139250586,cost0.16962156815305135,md1.2641648271096622,cd0.033410612081387826\n",
      "m 2.2679942505397945,c 2.1873814501542004,cost0.15581941113049289,md-0.9768023624024142,cd-0.5787342028642737\n",
      "m 2.1863812735157397,c 2.188763177870427,cost0.14371641365577967,md1.0201622128006826,cd-0.017271596452831873\n",
      "m 2.247743906750233,c 2.2290980581236037,cost0.13302683968149862,md-0.7670329154311638,cd-0.5041860031647076\n",
      "m 2.181747562970493,c 2.2335252935837153,cost0.1235197278285518,md0.8249542972467503,cd-0.05534044325139434\n",
      "m 2.2297797112222417,c 2.268922416384484,cost0.11500795886067308,md-0.6004018531468596,cd-0.4424640350096105\n",
      "m 2.176284659606544,c 2.2756005683762908,cost0.1073395295828815,md0.6686881451962233,cd-0.08347689989758145\n",
      "m 2.213735385878407,c 2.306887840824943,cost0.10039058653754176,md-0.4681340783982883,cd-0.3910909056081547\n",
      "m 2.170254943136438,c 2.315192801071317,cost0.09405986334903649,md0.5435055342746097,cd-0.10381200307967263\n",
      "m 2.1993136987020745,c 2.3430395801944157,cost0.08826423771269985,md-0.3632344445704554,cd-0.34808473903873605\n",
      "m 2.1638625904931037,c 2.3524826719863134,cost0.08293518155053264,md0.4431388526121346,cd-0.11803864739872126\n",
      "m 2.1862727486718105,c 2.3774314010318136,cost0.07801592372722821,md-0.28012697723383656,cd-0.3118591130687506\n",
      "m 2.1572656385141533,c 2.3876314575042543,cost0.07345918129710392,md0.36258887697071424,cd-0.12750070590550955\n",
      "m 2.1744150151272015,c 2.4101229178167802,cost0.06922534441882239,md-0.2143672076631006,cd-0.2811432539065713\n",
      "m 2.150585587951272,c 2.4207840437050385,cost0.06528102333197575,md0.29786783969911673,cd-0.13326407360322998\n",
      "m 2.1635786121786147,c 2.441177514495622,cost0.06159788433500965,md-0.16241280284178006,cd-0.25491838488228996\n",
      "m 2.1439150477863547,c 2.4520713783305874,cost0.05815171649232756,md0.24579455490324983,cd-0.1361732979370693\n",
      "m 2.153630302083688,c 2.470660734860243,cost0.054921682590988646,md-0.12144067871666878,cd-0.23236695662069595\n",
      "m 2.137323817683481,c 2.4816124722824338,cost0.05188971727120564,md0.20383105500259158,cd-0.13689671777738646\n",
      "m 2.1444599118649865,c 2.4986390442291735,cost0.04904004275389065,md-0.0892011772688207,cd-0.21283214933424796\n",
      "m 2.1308637257526066,c 2.509516039457312,cost0.04635877856867898,md0.1699523264047471,cd-0.135962440351733\n",
      "m 2.1359758694885094,c 2.525178884782891,cost0.04383362645496491,md-0.06390179669878329,cd-0.19578556656973625\n",
      "m 2.124572474492945,c 2.535881845863144,cost0.04145361541183607,md0.14254243744455194,cd-0.13378701350316186\n",
      "m 2.128101633371053,c 2.5503459627684273,cost0.03920889490609494,md-0.04411448597634724,cd-0.18080146131604238\n",
      "m 2.118476696509155,c 2.5608018247073736,cost0.03709056666678448,md0.1203117107737267,cd-0.13069827423682803\n",
      "m 2.120772834793503,c 2.5742047184297996,cost0.03509054742420437,md-0.028701728554345253,cd-0.1675361715303222\n",
      "m 2.112594380710634,c 2.5843610027801502,cost0.03320145649050715,md0.10223067603585854,cd-0.12695355437938396\n",
      "m 2.1139349893254455,c 2.5968179395942217,cost0.03141652330669783,md-0.016757607685143228,cd-0.15571171017589336\n",
      "m 2.1069367971074353,c 2.606638274382932,cost0.0297295110602709,md0.08747740272513056,cd-0.12275418485888352\n",
      "m 2.1075416624945413,c 2.618246487870094,cost0.0281346532591438,md-0.007560817338827519,cd-0.14510266858952292\n",
      "m 2.1015100223265035,c 2.6277070518134993,cost0.02662660077102551,md0.0753955021004714,cd-0.11825704929256418\n",
      "m 2.101552998161378,c 2.6385491128066176,cost0.025200377334927134,md-0.0005371979359281909,cd-0.13552576241398065\n",
      "m 2.096316147250177,c 2.6476358156400974,cost0.023851341948628327,md0.06546063639001432,cd-0.11358378541849845\n",
      "m 2.095934536582619,c 2.657782334457597,cost0.022575156852933542,md0.004770133344471717,cd-0.1268314852187448\n",
      "m 2.0913542316575633,c 2.6664885833847243,cost0.021367760086655644,md0.05725381156319749,cd-0.10882811158909256\n",
      "m 2.090656263915584,c 2.676000378847538,cost0.020225341788425083,md0.00872459677474069,cd-0.11889744328517082\n",
      "m 2.0866210575773376,c 2.6843253115524512,cost0.019144323582910155,md0.05044007922807978,cd-0.10406165881141903\n",
      "m 2.0856918466960472,c 2.693255154066937,cost0.018121340518098442,md0.01161513601613251,cd-0.11162303143107266\n",
      "m 2.082111722558874,c 2.7012022430021245,cost0.017153225123473996,md0.04475155171466483,cd-0.09933861168984137\n",
      "m 2.0810180142142363,c 2.709596257293525,cost0.01623699324146153,md0.013671354307968642,cd-0.10492517864250886\n",
      "m 2.077820105696288,c 2.717172209303728,cost0.015369831350564987,md0.03997385647434868,cd-0.09469940012753214\n",
      "m 2.0766140592050317,c 2.7250710050809133,cost0.014549085151541019,md0.015075581140706618,cd-0.09873494721481535\n",
      "m 2.0737392325653374,c 2.732284895849552,cost0.013772249230347736,md0.03593533299617704,cd-0.09017363460798329\n",
      "m 2.0724614332425584,c 2.7397244808822614,cost0.013036957645638886,md0.01597249153473861,cd-0.09299481290887074\n",
      "m 2.0698615599121704,c 2.7465870759846718,cost0.012340975315898037,md0.03249841662985133,cd-0.08578243878012728\n",
      "m 2.0685434179941087,c 2.7535995950692826,cost0.011682190103287127,md0.016476773975773542,cd-0.08765648855763537\n",
      "m 2.066179196691222,c 2.760122819221025,cost0.011058605508984853,md0.029552766286084164,cd-0.08154030189678352\n",
      "m 2.064844857288579,c 2.7667371537338745,cost0.010468333909073289,md0.016679242533032834,cd-0.08267918141061799\n",
      "m 2.0626840746684203,c 2.7729336776379365,cost0.009909590271584152,md0.027009782751987645,cd-0.0774565488007763\n",
      "m 2.061351937985791,c 2.7791759333750248,cost0.009380686304666458,md0.016651708532867106,cd-0.07802819671360482\n",
      "m 2.0593680791107873,c 2.785058853801841,cost0.00888002499345325,md0.0247982359375456,cd-0.0735365053352055\n",
      "m 2.0580520100509183,c 2.7909527592203687,cost0.00840609548939642,md0.01645086324836491,cd-0.07367381773159458\n",
      "m 2.056223147935525,c 2.7965353529206687,cost0.007957468320912865,md0.022860776442417574,cd-0.06978242125375189\n",
      "m 2.05493343816708,c 2.8021025854443096,cost0.007532790898352296,md0.016121372105560285,cd-0.06959040654551317\n",
      "m 2.0532413459797505,c 2.8073981214530215,cost0.007130783289727114,md0.021151152341618486,cd-0.0661942001089006\n",
      "m 2.0519854787579397,c 2.812658575950258,cost0.0067502342464980354,md0.015698340272636814,cd-0.0657556812154546\n",
      "m 2.050414919687842,c 2.8176801739944057,cost0.006389997461079277,md0.019631988376222865,cd-0.06276997555184564\n",
      "m 2.0491981775199255,c 2.8226521847051367,cost0.006048988039717134,md0.015209277098955455,cd-0.06215013388413731\n",
      "m 2.047736336426391,c 2.8274127099427506,cost0.005726179176078216,md0.01827301366918164,cd-0.05950656547017346\n",
      "m 2.0465622835434223,c 2.8321132348672426,cost0.005420599012302664,md0.014675661037109933,cd-0.05875656155615161\n",
      "m 2.045198311770722,c 2.836625221187641,cost0.005131327675503935,md0.017049647158751215,cd-0.05639982900497991\n",
      "m 2.0440691768841837,c 2.8410699961476715,cost0.0048574944787420265,md0.01411418608173065,cd-0.05555968700038605\n",
      "m 2.042793827417138,c 2.845345591859636,cost0.004598275276411798,md0.015941868338071787,cd-0.05344494639955464\n",
      "m 2.0417108070703494,c 2.8495492600018677,cost0.004352889964781892,md0.013537754334856801,cd-0.05254585177789899\n",
      "m 2.0405161418256377,c 2.8536001910078013,cost0.004120600119124239,md0.014933315558893413,cd-0.05063663757416812\n"
     ]
    }
   ],
   "source": [
    "def gd(x,y):\n",
    "    m=c=0\n",
    "    n=len(x)\n",
    "    lr =0.08\n",
    "    for i in range(100):\n",
    "        y_=m*x+c\n",
    "        cost = 1/n*sum((y-y_)**2)\n",
    "        md = -2/n*sum((y-y_)*x)\n",
    "        cd = -2/n*sum(y-y_)\n",
    "        m=m-lr*md\n",
    "        c =c-lr*cd\n",
    "        print(\"m {},c {},cost{},md{},cd{}\".format(m,c,cost,md,cd))\n",
    "x = np.array([1,2,3,4,5])\n",
    "y = np.array([5,7,9,11,13])    \n",
    "gd(x,y)"
   ]
  },
  {
   "cell_type": "code",
   "execution_count": 116,
   "metadata": {},
   "outputs": [
    {
     "data": {
      "text/plain": [
       "5"
      ]
     },
     "execution_count": 116,
     "metadata": {},
     "output_type": "execute_result"
    }
   ],
   "source": [
    "len(x)"
   ]
  },
  {
   "cell_type": "code",
   "execution_count": null,
   "metadata": {},
   "outputs": [],
   "source": []
  },
  {
   "cell_type": "code",
   "execution_count": null,
   "metadata": {},
   "outputs": [],
   "source": []
  }
 ],
 "metadata": {
  "kernelspec": {
   "display_name": "Python 3",
   "language": "python",
   "name": "python3"
  },
  "language_info": {
   "codemirror_mode": {
    "name": "ipython",
    "version": 3
   },
   "file_extension": ".py",
   "mimetype": "text/x-python",
   "name": "python",
   "nbconvert_exporter": "python",
   "pygments_lexer": "ipython3",
   "version": "3.8.3"
  }
 },
 "nbformat": 4,
 "nbformat_minor": 4
}
